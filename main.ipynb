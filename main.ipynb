{
 "metadata": {
  "language_info": {
   "codemirror_mode": {
    "name": "ipython",
    "version": 3
   },
   "file_extension": ".py",
   "mimetype": "text/x-python",
   "name": "python",
   "nbconvert_exporter": "python",
   "pygments_lexer": "ipython3",
   "version": "3.7.9-final"
  },
  "orig_nbformat": 2,
  "kernelspec": {
   "name": "python3",
   "display_name": "Python 3.7.9 64-bit",
   "metadata": {
    "interpreter": {
     "hash": "3ebc78694b05a2ce9ee78663ee386666ea439fc8445a1087b556c49386ae15a3"
    }
   }
  }
 },
 "nbformat": 4,
 "nbformat_minor": 2,
 "cells": [
  {
   "cell_type": "code",
   "execution_count": 31,
   "metadata": {},
   "outputs": [
    {
     "output_type": "stream",
     "name": "stdout",
     "text": [
      "Importing complete\n"
     ]
    }
   ],
   "source": [
    "import numpy as np\n",
    "import tensorflow as tf\n",
    "from tensorflow import keras\n",
    "from tensorflow.keras.models import Model\n",
    "from tensorflow.keras.layers import Activation, Dense\n",
    "from tensorflow.keras.optimizers import Adam\n",
    "from tensorflow.keras.metrics import categorical_crossentropy\n",
    "from tensorflow.keras.preprocessing.image import ImageDataGenerator\n",
    "from tensorflow.keras.preprocessing import image\n",
    "from tensorflow.keras.applications import imagenet_utils\n",
    "from sklearn.metrics import confusion_matrix\n",
    "import itertools\n",
    "import os\n",
    "import shutil\n",
    "import random\n",
    "import matplotlib.pyplot as plt\n",
    "%matplotlib inline\n",
    "print(\"Importing complete\")"
   ]
  },
  {
   "cell_type": "code",
   "execution_count": 32,
   "metadata": {},
   "outputs": [
    {
     "output_type": "stream",
     "name": "stdout",
     "text": [
      "Num GPUs Available:  0\n"
     ]
    }
   ],
   "source": [
    "physical_devices = tf.config.experimental.list_physical_devices('GPU')\n",
    "print(\"Num GPUs Available: \", len(physical_devices))\n",
    "if len(physical_devices)!=0:\n",
    "  tf.config.experimental.set_memory_growth(physical_devices[0], True)"
   ]
  },
  {
   "cell_type": "code",
   "execution_count": 33,
   "metadata": {},
   "outputs": [],
   "source": [
    "mobile = tf.keras.applications.mobilenet.MobileNet()"
   ]
  },
  {
   "cell_type": "code",
   "execution_count": 34,
   "metadata": {},
   "outputs": [
    {
     "output_type": "stream",
     "name": "stdout",
     "text": [
      "Model: \"mobilenet_1.00_224\"\n_________________________________________________________________\nLayer (type)                 Output Shape              Param #   \n=================================================================\ninput_2 (InputLayer)         [(None, 224, 224, 3)]     0         \n_________________________________________________________________\nconv1 (Conv2D)               (None, 112, 112, 32)      864       \n_________________________________________________________________\nconv1_bn (BatchNormalization (None, 112, 112, 32)      128       \n_________________________________________________________________\nconv1_relu (ReLU)            (None, 112, 112, 32)      0         \n_________________________________________________________________\nconv_dw_1 (DepthwiseConv2D)  (None, 112, 112, 32)      288       \n_________________________________________________________________\nconv_dw_1_bn (BatchNormaliza (None, 112, 112, 32)      128       \n_________________________________________________________________\nconv_dw_1_relu (ReLU)        (None, 112, 112, 32)      0         \n_________________________________________________________________\nconv_pw_1 (Conv2D)           (None, 112, 112, 64)      2048      \n_________________________________________________________________\nconv_pw_1_bn (BatchNormaliza (None, 112, 112, 64)      256       \n_________________________________________________________________\nconv_pw_1_relu (ReLU)        (None, 112, 112, 64)      0         \n_________________________________________________________________\nconv_pad_2 (ZeroPadding2D)   (None, 113, 113, 64)      0         \n_________________________________________________________________\nconv_dw_2 (DepthwiseConv2D)  (None, 56, 56, 64)        576       \n_________________________________________________________________\nconv_dw_2_bn (BatchNormaliza (None, 56, 56, 64)        256       \n_________________________________________________________________\nconv_dw_2_relu (ReLU)        (None, 56, 56, 64)        0         \n_________________________________________________________________\nconv_pw_2 (Conv2D)           (None, 56, 56, 128)       8192      \n_________________________________________________________________\nconv_pw_2_bn (BatchNormaliza (None, 56, 56, 128)       512       \n_________________________________________________________________\nconv_pw_2_relu (ReLU)        (None, 56, 56, 128)       0         \n_________________________________________________________________\nconv_dw_3 (DepthwiseConv2D)  (None, 56, 56, 128)       1152      \n_________________________________________________________________\nconv_dw_3_bn (BatchNormaliza (None, 56, 56, 128)       512       \n_________________________________________________________________\nconv_dw_3_relu (ReLU)        (None, 56, 56, 128)       0         \n_________________________________________________________________\nconv_pw_3 (Conv2D)           (None, 56, 56, 128)       16384     \n_________________________________________________________________\nconv_pw_3_bn (BatchNormaliza (None, 56, 56, 128)       512       \n_________________________________________________________________\nconv_pw_3_relu (ReLU)        (None, 56, 56, 128)       0         \n_________________________________________________________________\nconv_pad_4 (ZeroPadding2D)   (None, 57, 57, 128)       0         \n_________________________________________________________________\nconv_dw_4 (DepthwiseConv2D)  (None, 28, 28, 128)       1152      \n_________________________________________________________________\nconv_dw_4_bn (BatchNormaliza (None, 28, 28, 128)       512       \n_________________________________________________________________\nconv_dw_4_relu (ReLU)        (None, 28, 28, 128)       0         \n_________________________________________________________________\nconv_pw_4 (Conv2D)           (None, 28, 28, 256)       32768     \n_________________________________________________________________\nconv_pw_4_bn (BatchNormaliza (None, 28, 28, 256)       1024      \n_________________________________________________________________\nconv_pw_4_relu (ReLU)        (None, 28, 28, 256)       0         \n_________________________________________________________________\nconv_dw_5 (DepthwiseConv2D)  (None, 28, 28, 256)       2304      \n_________________________________________________________________\nconv_dw_5_bn (BatchNormaliza (None, 28, 28, 256)       1024      \n_________________________________________________________________\nconv_dw_5_relu (ReLU)        (None, 28, 28, 256)       0         \n_________________________________________________________________\nconv_pw_5 (Conv2D)           (None, 28, 28, 256)       65536     \n_________________________________________________________________\nconv_pw_5_bn (BatchNormaliza (None, 28, 28, 256)       1024      \n_________________________________________________________________\nconv_pw_5_relu (ReLU)        (None, 28, 28, 256)       0         \n_________________________________________________________________\nconv_pad_6 (ZeroPadding2D)   (None, 29, 29, 256)       0         \n_________________________________________________________________\nconv_dw_6 (DepthwiseConv2D)  (None, 14, 14, 256)       2304      \n_________________________________________________________________\nconv_dw_6_bn (BatchNormaliza (None, 14, 14, 256)       1024      \n_________________________________________________________________\nconv_dw_6_relu (ReLU)        (None, 14, 14, 256)       0         \n_________________________________________________________________\nconv_pw_6 (Conv2D)           (None, 14, 14, 512)       131072    \n_________________________________________________________________\nconv_pw_6_bn (BatchNormaliza (None, 14, 14, 512)       2048      \n_________________________________________________________________\nconv_pw_6_relu (ReLU)        (None, 14, 14, 512)       0         \n_________________________________________________________________\nconv_dw_7 (DepthwiseConv2D)  (None, 14, 14, 512)       4608      \n_________________________________________________________________\nconv_dw_7_bn (BatchNormaliza (None, 14, 14, 512)       2048      \n_________________________________________________________________\nconv_dw_7_relu (ReLU)        (None, 14, 14, 512)       0         \n_________________________________________________________________\nconv_pw_7 (Conv2D)           (None, 14, 14, 512)       262144    \n_________________________________________________________________\nconv_pw_7_bn (BatchNormaliza (None, 14, 14, 512)       2048      \n_________________________________________________________________\nconv_pw_7_relu (ReLU)        (None, 14, 14, 512)       0         \n_________________________________________________________________\nconv_dw_8 (DepthwiseConv2D)  (None, 14, 14, 512)       4608      \n_________________________________________________________________\nconv_dw_8_bn (BatchNormaliza (None, 14, 14, 512)       2048      \n_________________________________________________________________\nconv_dw_8_relu (ReLU)        (None, 14, 14, 512)       0         \n_________________________________________________________________\nconv_pw_8 (Conv2D)           (None, 14, 14, 512)       262144    \n_________________________________________________________________\nconv_pw_8_bn (BatchNormaliza (None, 14, 14, 512)       2048      \n_________________________________________________________________\nconv_pw_8_relu (ReLU)        (None, 14, 14, 512)       0         \n_________________________________________________________________\nconv_dw_9 (DepthwiseConv2D)  (None, 14, 14, 512)       4608      \n_________________________________________________________________\nconv_dw_9_bn (BatchNormaliza (None, 14, 14, 512)       2048      \n_________________________________________________________________\nconv_dw_9_relu (ReLU)        (None, 14, 14, 512)       0         \n_________________________________________________________________\nconv_pw_9 (Conv2D)           (None, 14, 14, 512)       262144    \n_________________________________________________________________\nconv_pw_9_bn (BatchNormaliza (None, 14, 14, 512)       2048      \n_________________________________________________________________\nconv_pw_9_relu (ReLU)        (None, 14, 14, 512)       0         \n_________________________________________________________________\nconv_dw_10 (DepthwiseConv2D) (None, 14, 14, 512)       4608      \n_________________________________________________________________\nconv_dw_10_bn (BatchNormaliz (None, 14, 14, 512)       2048      \n_________________________________________________________________\nconv_dw_10_relu (ReLU)       (None, 14, 14, 512)       0         \n_________________________________________________________________\nconv_pw_10 (Conv2D)          (None, 14, 14, 512)       262144    \n_________________________________________________________________\nconv_pw_10_bn (BatchNormaliz (None, 14, 14, 512)       2048      \n_________________________________________________________________\nconv_pw_10_relu (ReLU)       (None, 14, 14, 512)       0         \n_________________________________________________________________\nconv_dw_11 (DepthwiseConv2D) (None, 14, 14, 512)       4608      \n_________________________________________________________________\nconv_dw_11_bn (BatchNormaliz (None, 14, 14, 512)       2048      \n_________________________________________________________________\nconv_dw_11_relu (ReLU)       (None, 14, 14, 512)       0         \n_________________________________________________________________\nconv_pw_11 (Conv2D)          (None, 14, 14, 512)       262144    \n_________________________________________________________________\nconv_pw_11_bn (BatchNormaliz (None, 14, 14, 512)       2048      \n_________________________________________________________________\nconv_pw_11_relu (ReLU)       (None, 14, 14, 512)       0         \n_________________________________________________________________\nconv_pad_12 (ZeroPadding2D)  (None, 15, 15, 512)       0         \n_________________________________________________________________\nconv_dw_12 (DepthwiseConv2D) (None, 7, 7, 512)         4608      \n_________________________________________________________________\nconv_dw_12_bn (BatchNormaliz (None, 7, 7, 512)         2048      \n_________________________________________________________________\nconv_dw_12_relu (ReLU)       (None, 7, 7, 512)         0         \n_________________________________________________________________\nconv_pw_12 (Conv2D)          (None, 7, 7, 1024)        524288    \n_________________________________________________________________\nconv_pw_12_bn (BatchNormaliz (None, 7, 7, 1024)        4096      \n_________________________________________________________________\nconv_pw_12_relu (ReLU)       (None, 7, 7, 1024)        0         \n_________________________________________________________________\nconv_dw_13 (DepthwiseConv2D) (None, 7, 7, 1024)        9216      \n_________________________________________________________________\nconv_dw_13_bn (BatchNormaliz (None, 7, 7, 1024)        4096      \n_________________________________________________________________\nconv_dw_13_relu (ReLU)       (None, 7, 7, 1024)        0         \n_________________________________________________________________\nconv_pw_13 (Conv2D)          (None, 7, 7, 1024)        1048576   \n_________________________________________________________________\nconv_pw_13_bn (BatchNormaliz (None, 7, 7, 1024)        4096      \n_________________________________________________________________\nconv_pw_13_relu (ReLU)       (None, 7, 7, 1024)        0         \n_________________________________________________________________\nglobal_average_pooling2d_1 ( (None, 1024)              0         \n_________________________________________________________________\nreshape_1 (Reshape)          (None, 1, 1, 1024)        0         \n_________________________________________________________________\ndropout (Dropout)            (None, 1, 1, 1024)        0         \n_________________________________________________________________\nconv_preds (Conv2D)          (None, 1, 1, 1000)        1025000   \n_________________________________________________________________\nreshape_2 (Reshape)          (None, 1000)              0         \n_________________________________________________________________\npredictions (Activation)     (None, 1000)              0         \n=================================================================\nTotal params: 4,253,864\nTrainable params: 4,231,976\nNon-trainable params: 21,888\n_________________________________________________________________\n"
     ]
    }
   ],
   "source": [
    "mobile.summary()"
   ]
  },
  {
   "cell_type": "code",
   "execution_count": 35,
   "metadata": {},
   "outputs": [],
   "source": [
    "def prepare_image(file):\n",
    "    img_path = ''\n",
    "    img = image.load_img(img_path + file, target_size=(80,80))\n",
    "    img_array = image.img_to_array(img)\n",
    "    img_array_expanded_dims = np.expand_dims(img_array, axis=0)\n",
    "    return tf.keras.application.mobileent.preprocess_input(img_array_expanded_dims)"
   ]
  },
  {
   "cell_type": "code",
   "execution_count": 36,
   "metadata": {},
   "outputs": [],
   "source": [
    "train_path = 'D:/Study/Project/Drowsiness Detection/data/train'\n",
    "valid_path = 'D:/Study/Project/Drowsiness Detection/data/valid'\n",
    "test_path = 'D:/Study/Project/Drowsiness Detection/data/test'"
   ]
  },
  {
   "cell_type": "code",
   "execution_count": 37,
   "metadata": {},
   "outputs": [
    {
     "output_type": "stream",
     "name": "stdout",
     "text": [
      "Found 24392 images belonging to 2 classes.\n",
      "Found 96 images belonging to 2 classes.\n",
      "Found 48 images belonging to 2 classes.\n"
     ]
    }
   ],
   "source": [
    "train_batches = ImageDataGenerator(preprocessing_function=tf.keras.applications.mobilenet.preprocess_input).flow_from_directory(directory=train_path, target_size=(224,224), batch_size=2)\n",
    "valid_batches = ImageDataGenerator(preprocessing_function=tf.keras.applications.mobilenet.preprocess_input).flow_from_directory(directory=valid_path, target_size=(224,224), batch_size=2)\n",
    "test_batches = ImageDataGenerator(preprocessing_function=tf.keras.applications.mobilenet.preprocess_input).flow_from_directory(directory=test_path, target_size=(224,224), batch_size=2)"
   ]
  },
  {
   "cell_type": "code",
   "execution_count": 38,
   "metadata": {},
   "outputs": [],
   "source": [
    "x = mobile.layers[-6].output\n",
    "output = Dense(units=2, activation='softmax')(x)"
   ]
  },
  {
   "cell_type": "code",
   "execution_count": 39,
   "metadata": {},
   "outputs": [],
   "source": [
    "model = Model(inputs=mobile.input, outputs=output)"
   ]
  },
  {
   "cell_type": "code",
   "execution_count": 40,
   "metadata": {},
   "outputs": [],
   "source": [
    "# Freezed Last 23 layers\n",
    "for layer in model.layers[:-23]:\n",
    "  layer.trainable = False"
   ]
  },
  {
   "cell_type": "code",
   "execution_count": 41,
   "metadata": {},
   "outputs": [
    {
     "output_type": "stream",
     "name": "stdout",
     "text": [
      "Model: \"model_3\"\n_________________________________________________________________\nLayer (type)                 Output Shape              Param #   \n=================================================================\ninput_2 (InputLayer)         [(None, 224, 224, 3)]     0         \n_________________________________________________________________\nconv1 (Conv2D)               (None, 112, 112, 32)      864       \n_________________________________________________________________\nconv1_bn (BatchNormalization (None, 112, 112, 32)      128       \n_________________________________________________________________\nconv1_relu (ReLU)            (None, 112, 112, 32)      0         \n_________________________________________________________________\nconv_dw_1 (DepthwiseConv2D)  (None, 112, 112, 32)      288       \n_________________________________________________________________\nconv_dw_1_bn (BatchNormaliza (None, 112, 112, 32)      128       \n_________________________________________________________________\nconv_dw_1_relu (ReLU)        (None, 112, 112, 32)      0         \n_________________________________________________________________\nconv_pw_1 (Conv2D)           (None, 112, 112, 64)      2048      \n_________________________________________________________________\nconv_pw_1_bn (BatchNormaliza (None, 112, 112, 64)      256       \n_________________________________________________________________\nconv_pw_1_relu (ReLU)        (None, 112, 112, 64)      0         \n_________________________________________________________________\nconv_pad_2 (ZeroPadding2D)   (None, 113, 113, 64)      0         \n_________________________________________________________________\nconv_dw_2 (DepthwiseConv2D)  (None, 56, 56, 64)        576       \n_________________________________________________________________\nconv_dw_2_bn (BatchNormaliza (None, 56, 56, 64)        256       \n_________________________________________________________________\nconv_dw_2_relu (ReLU)        (None, 56, 56, 64)        0         \n_________________________________________________________________\nconv_pw_2 (Conv2D)           (None, 56, 56, 128)       8192      \n_________________________________________________________________\nconv_pw_2_bn (BatchNormaliza (None, 56, 56, 128)       512       \n_________________________________________________________________\nconv_pw_2_relu (ReLU)        (None, 56, 56, 128)       0         \n_________________________________________________________________\nconv_dw_3 (DepthwiseConv2D)  (None, 56, 56, 128)       1152      \n_________________________________________________________________\nconv_dw_3_bn (BatchNormaliza (None, 56, 56, 128)       512       \n_________________________________________________________________\nconv_dw_3_relu (ReLU)        (None, 56, 56, 128)       0         \n_________________________________________________________________\nconv_pw_3 (Conv2D)           (None, 56, 56, 128)       16384     \n_________________________________________________________________\nconv_pw_3_bn (BatchNormaliza (None, 56, 56, 128)       512       \n_________________________________________________________________\nconv_pw_3_relu (ReLU)        (None, 56, 56, 128)       0         \n_________________________________________________________________\nconv_pad_4 (ZeroPadding2D)   (None, 57, 57, 128)       0         \n_________________________________________________________________\nconv_dw_4 (DepthwiseConv2D)  (None, 28, 28, 128)       1152      \n_________________________________________________________________\nconv_dw_4_bn (BatchNormaliza (None, 28, 28, 128)       512       \n_________________________________________________________________\nconv_dw_4_relu (ReLU)        (None, 28, 28, 128)       0         \n_________________________________________________________________\nconv_pw_4 (Conv2D)           (None, 28, 28, 256)       32768     \n_________________________________________________________________\nconv_pw_4_bn (BatchNormaliza (None, 28, 28, 256)       1024      \n_________________________________________________________________\nconv_pw_4_relu (ReLU)        (None, 28, 28, 256)       0         \n_________________________________________________________________\nconv_dw_5 (DepthwiseConv2D)  (None, 28, 28, 256)       2304      \n_________________________________________________________________\nconv_dw_5_bn (BatchNormaliza (None, 28, 28, 256)       1024      \n_________________________________________________________________\nconv_dw_5_relu (ReLU)        (None, 28, 28, 256)       0         \n_________________________________________________________________\nconv_pw_5 (Conv2D)           (None, 28, 28, 256)       65536     \n_________________________________________________________________\nconv_pw_5_bn (BatchNormaliza (None, 28, 28, 256)       1024      \n_________________________________________________________________\nconv_pw_5_relu (ReLU)        (None, 28, 28, 256)       0         \n_________________________________________________________________\nconv_pad_6 (ZeroPadding2D)   (None, 29, 29, 256)       0         \n_________________________________________________________________\nconv_dw_6 (DepthwiseConv2D)  (None, 14, 14, 256)       2304      \n_________________________________________________________________\nconv_dw_6_bn (BatchNormaliza (None, 14, 14, 256)       1024      \n_________________________________________________________________\nconv_dw_6_relu (ReLU)        (None, 14, 14, 256)       0         \n_________________________________________________________________\nconv_pw_6 (Conv2D)           (None, 14, 14, 512)       131072    \n_________________________________________________________________\nconv_pw_6_bn (BatchNormaliza (None, 14, 14, 512)       2048      \n_________________________________________________________________\nconv_pw_6_relu (ReLU)        (None, 14, 14, 512)       0         \n_________________________________________________________________\nconv_dw_7 (DepthwiseConv2D)  (None, 14, 14, 512)       4608      \n_________________________________________________________________\nconv_dw_7_bn (BatchNormaliza (None, 14, 14, 512)       2048      \n_________________________________________________________________\nconv_dw_7_relu (ReLU)        (None, 14, 14, 512)       0         \n_________________________________________________________________\nconv_pw_7 (Conv2D)           (None, 14, 14, 512)       262144    \n_________________________________________________________________\nconv_pw_7_bn (BatchNormaliza (None, 14, 14, 512)       2048      \n_________________________________________________________________\nconv_pw_7_relu (ReLU)        (None, 14, 14, 512)       0         \n_________________________________________________________________\nconv_dw_8 (DepthwiseConv2D)  (None, 14, 14, 512)       4608      \n_________________________________________________________________\nconv_dw_8_bn (BatchNormaliza (None, 14, 14, 512)       2048      \n_________________________________________________________________\nconv_dw_8_relu (ReLU)        (None, 14, 14, 512)       0         \n_________________________________________________________________\nconv_pw_8 (Conv2D)           (None, 14, 14, 512)       262144    \n_________________________________________________________________\nconv_pw_8_bn (BatchNormaliza (None, 14, 14, 512)       2048      \n_________________________________________________________________\nconv_pw_8_relu (ReLU)        (None, 14, 14, 512)       0         \n_________________________________________________________________\nconv_dw_9 (DepthwiseConv2D)  (None, 14, 14, 512)       4608      \n_________________________________________________________________\nconv_dw_9_bn (BatchNormaliza (None, 14, 14, 512)       2048      \n_________________________________________________________________\nconv_dw_9_relu (ReLU)        (None, 14, 14, 512)       0         \n_________________________________________________________________\nconv_pw_9 (Conv2D)           (None, 14, 14, 512)       262144    \n_________________________________________________________________\nconv_pw_9_bn (BatchNormaliza (None, 14, 14, 512)       2048      \n_________________________________________________________________\nconv_pw_9_relu (ReLU)        (None, 14, 14, 512)       0         \n_________________________________________________________________\nconv_dw_10 (DepthwiseConv2D) (None, 14, 14, 512)       4608      \n_________________________________________________________________\nconv_dw_10_bn (BatchNormaliz (None, 14, 14, 512)       2048      \n_________________________________________________________________\nconv_dw_10_relu (ReLU)       (None, 14, 14, 512)       0         \n_________________________________________________________________\nconv_pw_10 (Conv2D)          (None, 14, 14, 512)       262144    \n_________________________________________________________________\nconv_pw_10_bn (BatchNormaliz (None, 14, 14, 512)       2048      \n_________________________________________________________________\nconv_pw_10_relu (ReLU)       (None, 14, 14, 512)       0         \n_________________________________________________________________\nconv_dw_11 (DepthwiseConv2D) (None, 14, 14, 512)       4608      \n_________________________________________________________________\nconv_dw_11_bn (BatchNormaliz (None, 14, 14, 512)       2048      \n_________________________________________________________________\nconv_dw_11_relu (ReLU)       (None, 14, 14, 512)       0         \n_________________________________________________________________\nconv_pw_11 (Conv2D)          (None, 14, 14, 512)       262144    \n_________________________________________________________________\nconv_pw_11_bn (BatchNormaliz (None, 14, 14, 512)       2048      \n_________________________________________________________________\nconv_pw_11_relu (ReLU)       (None, 14, 14, 512)       0         \n_________________________________________________________________\nconv_pad_12 (ZeroPadding2D)  (None, 15, 15, 512)       0         \n_________________________________________________________________\nconv_dw_12 (DepthwiseConv2D) (None, 7, 7, 512)         4608      \n_________________________________________________________________\nconv_dw_12_bn (BatchNormaliz (None, 7, 7, 512)         2048      \n_________________________________________________________________\nconv_dw_12_relu (ReLU)       (None, 7, 7, 512)         0         \n_________________________________________________________________\nconv_pw_12 (Conv2D)          (None, 7, 7, 1024)        524288    \n_________________________________________________________________\nconv_pw_12_bn (BatchNormaliz (None, 7, 7, 1024)        4096      \n_________________________________________________________________\nconv_pw_12_relu (ReLU)       (None, 7, 7, 1024)        0         \n_________________________________________________________________\nconv_dw_13 (DepthwiseConv2D) (None, 7, 7, 1024)        9216      \n_________________________________________________________________\nconv_dw_13_bn (BatchNormaliz (None, 7, 7, 1024)        4096      \n_________________________________________________________________\nconv_dw_13_relu (ReLU)       (None, 7, 7, 1024)        0         \n_________________________________________________________________\nconv_pw_13 (Conv2D)          (None, 7, 7, 1024)        1048576   \n_________________________________________________________________\nconv_pw_13_bn (BatchNormaliz (None, 7, 7, 1024)        4096      \n_________________________________________________________________\nconv_pw_13_relu (ReLU)       (None, 7, 7, 1024)        0         \n_________________________________________________________________\nglobal_average_pooling2d_1 ( (None, 1024)              0         \n_________________________________________________________________\ndense_3 (Dense)              (None, 2)                 2050      \n=================================================================\nTotal params: 3,230,914\nTrainable params: 1,865,730\nNon-trainable params: 1,365,184\n_________________________________________________________________\n"
     ]
    }
   ],
   "source": [
    "model.summary()"
   ]
  },
  {
   "cell_type": "code",
   "execution_count": 2,
   "metadata": {},
   "outputs": [
    {
     "output_type": "error",
     "ename": "NameError",
     "evalue": "name 'model' is not defined",
     "traceback": [
      "\u001b[1;31m---------------------------------------------------------------------------\u001b[0m",
      "\u001b[1;31mNameError\u001b[0m                                 Traceback (most recent call last)",
      "\u001b[1;32m<ipython-input-2-2abcde3c3327>\u001b[0m in \u001b[0;36m<module>\u001b[1;34m\u001b[0m\n\u001b[1;32m----> 1\u001b[1;33m \u001b[0mmodel\u001b[0m\u001b[1;33m.\u001b[0m\u001b[0mcompile\u001b[0m\u001b[1;33m(\u001b[0m\u001b[0moptimizer\u001b[0m\u001b[1;33m=\u001b[0m\u001b[0mAdam\u001b[0m\u001b[1;33m(\u001b[0m\u001b[0mlr\u001b[0m\u001b[1;33m=\u001b[0m\u001b[1;36m0.0001\u001b[0m\u001b[1;33m)\u001b[0m\u001b[1;33m,\u001b[0m \u001b[0mloss\u001b[0m\u001b[1;33m=\u001b[0m\u001b[1;34m'categorical_crossentropy'\u001b[0m\u001b[1;33m,\u001b[0m \u001b[0mmetrics\u001b[0m\u001b[1;33m=\u001b[0m\u001b[1;33m[\u001b[0m\u001b[1;34m'accuracy'\u001b[0m\u001b[1;33m]\u001b[0m\u001b[1;33m)\u001b[0m\u001b[1;33m\u001b[0m\u001b[1;33m\u001b[0m\u001b[0m\n\u001b[0m",
      "\u001b[1;31mNameError\u001b[0m: name 'model' is not defined"
     ]
    }
   ],
   "source": [
    "model.compile(optimizer=Adam(lr=0.0001), loss='categorical_crossentropy', metrics=['accuracy'])"
   ]
  },
  {
   "cell_type": "code",
   "execution_count": 1,
   "metadata": {},
   "outputs": [
    {
     "output_type": "error",
     "ename": "NameError",
     "evalue": "name 'model' is not defined",
     "traceback": [
      "\u001b[1;31m---------------------------------------------------------------------------\u001b[0m",
      "\u001b[1;31mNameError\u001b[0m                                 Traceback (most recent call last)",
      "\u001b[1;32m<ipython-input-1-ca760ae821df>\u001b[0m in \u001b[0;36m<module>\u001b[1;34m\u001b[0m\n\u001b[0;32m      1\u001b[0m \u001b[1;31m# Run for more epochs (~30) to see better results\u001b[0m\u001b[1;33m\u001b[0m\u001b[1;33m\u001b[0m\u001b[1;33m\u001b[0m\u001b[0m\n\u001b[1;32m----> 2\u001b[1;33m \u001b[0mmodel\u001b[0m\u001b[1;33m.\u001b[0m\u001b[0mfit\u001b[0m\u001b[1;33m(\u001b[0m\u001b[0mx\u001b[0m\u001b[1;33m=\u001b[0m\u001b[0mtrain_batches\u001b[0m\u001b[1;33m,\u001b[0m \u001b[0mvalidation_data\u001b[0m\u001b[1;33m=\u001b[0m\u001b[0mvalid_batches\u001b[0m\u001b[1;33m,\u001b[0m \u001b[0mepochs\u001b[0m\u001b[1;33m=\u001b[0m\u001b[1;36m2\u001b[0m\u001b[1;33m,\u001b[0m \u001b[0mverbose\u001b[0m\u001b[1;33m=\u001b[0m\u001b[1;36m2\u001b[0m\u001b[1;33m)\u001b[0m\u001b[1;33m\u001b[0m\u001b[1;33m\u001b[0m\u001b[0m\n\u001b[0m",
      "\u001b[1;31mNameError\u001b[0m: name 'model' is not defined"
     ]
    }
   ],
   "source": [
    "# Run for more epochs (~30) to see better results\n",
    "model.fit(x=train_batches, validation_data=valid_batches, epochs=2, verbose=2)"
   ]
  },
  {
   "cell_type": "code",
   "execution_count": null,
   "metadata": {},
   "outputs": [],
   "source": [
    "test_labels = test_batches.classes"
   ]
  },
  {
   "cell_type": "code",
   "execution_count": null,
   "metadata": {},
   "outputs": [],
   "source": [
    "predictions = model.predict(x=test_batches, verbose=0)"
   ]
  },
  {
   "cell_type": "code",
   "execution_count": null,
   "metadata": {},
   "outputs": [],
   "source": [
    "cm = confusion_matrix(y_true=test_labels, y_pred=predictions.argmax(axis=1))"
   ]
  },
  {
   "cell_type": "code",
   "execution_count": null,
   "metadata": {},
   "outputs": [],
   "source": [
    "test_batches.class_indices"
   ]
  },
  {
   "cell_type": "code",
   "execution_count": null,
   "metadata": {},
   "outputs": [],
   "source": [
    "def plot_confusion_matrix(cm, classes, normalize=False, title='Cofusion matrix', cmap=plt.cm.Blues):\n",
    "  '''This function prints and plots the confusion matrix.\n",
    "  Normalization can be applied by setting 'normalize=True''''\n",
    "\n",
    "  plt.imshow(cm, interpolation='nearest',cmap=cmap)\n",
    "  plt.title(title)\n",
    "  plt.colourbar()\n",
    "  tick_marks = np.arange(len(classes))\n",
    "  plt.xticks(tick_marks, classes, rotation=45)\n",
    "  plt.yticks(tick_marks, classes)\n",
    "\n",
    "  if normalize:\n",
    "    cm = cm.astype('float') / cm.sum(axis=1)[:, np.newaxis]\n",
    "    print(\"Normalized confusion matrix\")\n",
    "  else:\n",
    "    print('Confusion matrix, without normalization')\n",
    "\n",
    "  print(cm)\n",
    "\n",
    "  thresh = cm.max() / 2\n",
    "  for i, j in itertools.product(range(cm.shape[0]), range(cm.shape[1])):\n",
    "    plt.text(j, i, cm[i, j], horizontalalignment='center',color='white' if cm[i, j] > thresh else 'black')\n",
    "  \n",
    "  plt.tight_layout()\n",
    "  plt.ylabel('True label')\n",
    "  plt.xlabel('Predicted label')\n"
   ]
  },
  {
   "cell_type": "code",
   "execution_count": null,
   "metadata": {},
   "outputs": [],
   "source": [
    "# Train the model for more epochs to see better results\n",
    "cm_plot_labels = ['Open Eyes','Closed Eyes']\n",
    "plot_confusion_matrix(cm=cm, classes=cm_plot_labels, title='Confusion Matrix')"
   ]
  },
  {
   "cell_type": "code",
   "execution_count": 3,
   "metadata": {},
   "outputs": [],
   "source": []
  }
 ]
}